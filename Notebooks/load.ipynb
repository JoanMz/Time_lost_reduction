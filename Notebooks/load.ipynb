{
 "cells": [
  {
   "cell_type": "code",
   "execution_count": 1,
   "metadata": {},
   "outputs": [],
   "source": [
    "import sys\n",
    "sys.path.append(\"../Aplication\")\n",
    "import pandas as pd\n",
    "import Pysqlconnect\n",
    "from decouple import config\n",
    "import os"
   ]
  },
  {
   "cell_type": "code",
   "execution_count": 2,
   "metadata": {},
   "outputs": [],
   "source": [
    "dtypesi = {\n",
    "    \"Código centro\": str,  # Considerado como str para preservar formato\n",
    "    \"Centro\": str,\n",
    "    \"Ubicac. técnica\": str,\n",
    "    \"Denominación Ubic.\": str,\n",
    "    \"Equipo\": str,  # Considerado como str para preservar formato\n",
    "    \"Denominación\": str,\n",
    "    \"No. Plan\": str,  # Considerado como str para preservar formato\n",
    "    \"Desc. Plan\": str,\n",
    "    \"Orden\": str,\n",
    "    \"Actividad\": str,\n",
    "    \"Descripción\": str,\n",
    "    \"Clase de orden\": str,\n",
    "    \"Status sistema\": str,\n",
    "    \"Inicio program.\": str,  # Sugerido convertir a datetime si es una fecha\n",
    "    \"Duración\": str  # o \"int\" dependiendo del uso\n",
    "}\n",
    "dtypesa = {\n",
    "    \"Código centro\": str,  # Considerado como str para preservar formato\n",
    "    \"Centro\": str,\n",
    "    \"Ubicac. técnica\": str,\n",
    "    \"Denominación Ubic.\": str,\n",
    "    \"Equipo\": str,  # Considerado como str para preservar formato\n",
    "    \"Denominación\": str,\n",
    "    \"No. Plan\": str,  # Considerado como str para preservar formato\n",
    "    \"Desc. Plan\": str,\n",
    "    \"Orden\": str,\n",
    "    \"Actividad\": str,\n",
    "    \"Clase de orden\": str,\n",
    "    \"Status sistema\": str,\n",
    "    \"Inicio program.\": str,  # Sugerido convertir a datetime si es una fecha\n",
    "    \"Duración\": str  # o \"int\" dependiendo del uso\n",
    "}"
   ]
  },
  {
   "cell_type": "code",
   "execution_count": 3,
   "metadata": {},
   "outputs": [],
   "source": [
    "def table(path):\n",
    "    if \"actividades_no_programadas\" in path:\n",
    "        return config(\"DB_TABLE2\")\n",
    "    if \"actividades_programadas\" in path:\n",
    "        return config(\"DB_TABLE1\")\n",
    "    if \"inspecciones_no_programadas\" in path:\n",
    "        return config(\"DB_TABLE3\")\n",
    "    if \"inspecciones_programadas\" in path:\n",
    "        return config(\"DB_TABLE4\")"
   ]
  },
  {
   "cell_type": "code",
   "execution_count": 4,
   "metadata": {},
   "outputs": [],
   "source": [
    "dtsets = os.listdir(r\"../Dataset\")"
   ]
  },
  {
   "cell_type": "code",
   "execution_count": 5,
   "metadata": {},
   "outputs": [
    {
     "name": "stderr",
     "output_type": "stream",
     "text": [
      "C:\\Users\\joanm\\AppData\\Local\\Temp\\ipykernel_31264\\4246703070.py:9: DtypeWarning: Columns (16) have mixed types. Specify dtype option on import or set low_memory=False.\n",
      "  df = pd.read_csv(f\"../Dataset/{dataset}\", dtype=d)\n",
      "C:\\Users\\joanm\\AppData\\Local\\Temp\\ipykernel_31264\\4246703070.py:9: DtypeWarning: Columns (0) have mixed types. Specify dtype option on import or set low_memory=False.\n",
      "  df = pd.read_csv(f\"../Dataset/{dataset}\", dtype=d)\n"
     ]
    }
   ],
   "source": [
    "for dataset in dtsets:\n",
    "    # Determinar los tipos de datos basados en el contenido del nombre del conjunto de datos\n",
    "    if \"inspecciones\" in dataset:\n",
    "        d = dtypesi\n",
    "    else:\n",
    "        d = dtypesa\n",
    "    \n",
    "    # Leer el archivo CSV en un DataFrame usando los tipos de datos determinados\n",
    "    df = pd.read_csv(f\"../Dataset/{dataset}\", dtype=d)\n",
    "    \n",
    "    # Escribir el DataFrame en la base de datos SQL\n",
    "    table_name = table(dataset)  \n",
    "    con = Pysqlconnect.connection() \n",
    "    df.to_sql(table_name, con=con, if_exists=\"replace\", index=False)"
   ]
  }
 ],
 "metadata": {
  "kernelspec": {
   "display_name": "time_lost_venv",
   "language": "python",
   "name": "python3"
  },
  "language_info": {
   "codemirror_mode": {
    "name": "ipython",
    "version": 3
   },
   "file_extension": ".py",
   "mimetype": "text/x-python",
   "name": "python",
   "nbconvert_exporter": "python",
   "pygments_lexer": "ipython3",
   "version": "3.12.0"
  }
 },
 "nbformat": 4,
 "nbformat_minor": 2
}
