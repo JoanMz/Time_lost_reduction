{
 "cells": [
  {
   "cell_type": "markdown",
   "metadata": {},
   "source": [
    "<font color=#09D8B9><h1><b>EDA</b></h1></font>"
   ]
  },
  {
   "cell_type": "markdown",
   "metadata": {},
   "source": [
    "<h5>We are looking to  understand the structure and characteristics of data using tools like(python-notebooks, SQL_DB, PowerBi)<h5>"
   ]
  },
  {
   "cell_type": "markdown",
   "metadata": {},
   "source": [
    "<p>Our data was extremely dirty, so they underwent a pre-cleaning process before being loaded into a dataframe and then into a SQL database.</p>\n",
    "\n",
    "<p>Our data consists of real company data, They came in Excel format with unconventional structures.</p>\n",
    "\n",
    "**for now, we have four main tables**\n",
    "\n",
    "- ins_programadas (inspecciones programadas)\n",
    "- ins_no_programados (inspecciones no programadas)\n",
    "- act_programadas (actividades programadas)\n",
    "- act_no_programadas (actividades no programadas)"
   ]
  },
  {
   "cell_type": "markdown",
   "metadata": {},
   "source": [
    "---"
   ]
  },
  {
   "cell_type": "markdown",
   "metadata": {},
   "source": [
    "<font color=#09D825 ><h4>Preprocess stage</h4></font>"
   ]
  },
  {
   "cell_type": "markdown",
   "metadata": {},
   "source": [
    "<ol>\n",
    "<li>load own libraries</li>\n",
    "<li>load alien python libraries</li>\n",
    "<li>defined modules</li>\n",
    "</ol>"
   ]
  },
  {
   "cell_type": "code",
   "execution_count": 15,
   "metadata": {},
   "outputs": [],
   "source": [
    "import sys\n",
    "sys.path.append(r\"../Aplication\")\n",
    "import Pysqlconnect"
   ]
  },
  {
   "cell_type": "code",
   "execution_count": 8,
   "metadata": {},
   "outputs": [],
   "source": [
    "from decouple import config\n",
    "import matplotlib.pyplot as plt\n",
    "import numpy as np\n",
    "import pandas as pd\n",
    "import os\n",
    "import re"
   ]
  },
  {
   "cell_type": "markdown",
   "metadata": {},
   "source": [
    "**We create the table before using the preload file**\n",
    "- first we need to know our data\n"
   ]
  },
  {
   "cell_type": "code",
   "execution_count": 13,
   "metadata": {},
   "outputs": [
    {
     "name": "stdout",
     "output_type": "stream",
     "text": [
      "['SELECT * FROM act_programadas', 'SELECT * FROM act_no_programadas', 'SELECT * FROM ins_no_programadas', 'SELECT * FROM ins_programadas']\n"
     ]
    }
   ],
   "source": [
    "def load_query(): #create a function for iter the diferents tables\n",
    "    lst = []\n",
    "    for i in range(1,5):\n",
    "        get_all_data = f\"SELECT * FROM {config(f\"DB_TABLE{i}\")}\"\n",
    "        lst.append(get_all_data)\n",
    "    return lst\n",
    "\n",
    "datasets = load_query() \n",
    "print(datasets) #show the querys"
   ]
  },
  {
   "cell_type": "code",
   "execution_count": 17,
   "metadata": {},
   "outputs": [],
   "source": [
    "#define our datasets\n",
    "\n",
    "df_ins_no = pd.read_sql(datasets[2],Pysqlconnect.connection())\n",
    "df_ins = pd.read_sql(datasets[3],Pysqlconnect.connection())\n",
    "df_act_no = pd.read_sql(datasets[1],Pysqlconnect.connection())\n",
    "df_act = pd.read_sql(datasets[0],Pysqlconnect.connection())"
   ]
  },
  {
   "cell_type": "code",
   "execution_count": 22,
   "metadata": {},
   "outputs": [
    {
     "name": "stdout",
     "output_type": "stream",
     "text": [
      "\n",
      "ins_programadas shape     137912\n",
      "ins_no_programadas sahpe  250654\n",
      "\n",
      "act_programadas  shape    48428\n",
      "act_no_programadas shape  89369\n",
      "\n"
     ]
    }
   ],
   "source": [
    "print(f\"\"\"\n",
    "ins_programadas shape     {df_ins.shape[0]}\n",
    "ins_no_programadas sahpe  {df_ins_no.shape[0]}\n",
    "\n",
    "act_programadas  shape    {df_act.shape[0]}\n",
    "act_no_programadas shape  {df_act_no.shape[0]}\n",
    "\"\"\")\n",
    "# print the number of entries for each dataset "
   ]
  },
  {
   "cell_type": "markdown",
   "metadata": {},
   "source": [
    "We can see that we have around 400k rows betwen all tables"
   ]
  },
  {
   "cell_type": "code",
   "execution_count": 27,
   "metadata": {},
   "outputs": [
    {
     "name": "stdout",
     "output_type": "stream",
     "text": [
      "\n",
      "    ins_programadas shape     137912\n",
      "    ins_no_programadas shape  250654\n",
      "\n",
      "    act_programadas  shape    48428\n",
      "    act_no_programadas shape  89369\n",
      "    \n"
     ]
    }
   ],
   "source": [
    "print(f\"\"\"\n",
    "    ins_programadas shape     {df_ins.shape[0]}\n",
    "    ins_no_programadas shape  {df_ins_no.shape[0]}\n",
    "\n",
    "    act_programadas  shape    {df_act.shape[0]}\n",
    "    act_no_programadas shape  {df_act_no.shape[0]}\n",
    "    \"\"\")"
   ]
  },
  {
   "cell_type": "code",
   "execution_count": 23,
   "metadata": {},
   "outputs": [
    {
     "name": "stdout",
     "output_type": "stream",
     "text": [
      "\n",
      "ins_programadas nulos     57891\n",
      "ins_no_programadas nulos  27281\n",
      "\n",
      "act_programadas nulos     41891\n",
      "act_no_programadas nulos  47327\n",
      "\n"
     ]
    }
   ],
   "source": [
    "print(f\"\"\"\n",
    "ins_programadas nulos     {df_ins.isnull().sum().sum()}\n",
    "ins_no_programadas nulos  {df_ins_no.isnull().sum().sum()}\n",
    "\n",
    "act_programadas nulos     {df_act.isnull().sum().sum()}\n",
    "act_no_programadas nulos  {df_act_no.isnull().sum().sum()}\n",
    "\"\"\")\n",
    "#looking for null values"
   ]
  },
  {
   "cell_type": "code",
   "execution_count": 24,
   "metadata": {},
   "outputs": [
    {
     "name": "stdout",
     "output_type": "stream",
     "text": [
      "Nulls per column in df_ins_programadas:\n",
      "Código centro          1300\n",
      "Centro                 1300\n",
      "Ubicac. técnica        1300\n",
      "Denominación Ubic.     1300\n",
      "Equipo                 1300\n",
      "Denominación           1300\n",
      "No. Plan               1300\n",
      "Desc. Plan             1300\n",
      "Orden                  1300\n",
      "Actividad              1300\n",
      "Descripción            1769\n",
      "Clase de orden         1300\n",
      "Status sistema         1300\n",
      "Inicio program.        1354\n",
      "Responsable           39168\n",
      "dtype: int64\n",
      "\n",
      "Nulls per column in df_ins_no_programadas:\n",
      "Código centro         2415\n",
      "Centro                2415\n",
      "Ubicac. técnica       2415\n",
      "Denominación Ubic.    2415\n",
      "Equipo                2415\n",
      "Denominación          2415\n",
      "No. Plan              1300\n",
      "Desc. Plan            1300\n",
      "Orden                 1300\n",
      "Actividad             1300\n",
      "Descripción           1933\n",
      "Clase de orden        1300\n",
      "Status sistema        1300\n",
      "Inicio program.       1758\n",
      "Duración              1300\n",
      "dtype: int64\n",
      "\n",
      "Nulls per column in df_act_programadas:\n",
      "Código centro           820\n",
      "Centro                  820\n",
      "Ubicac. técnica         758\n",
      "Denominación Ubic.      758\n",
      "Equipo                  759\n",
      "Denominación            855\n",
      "No. Plan                940\n",
      "Desc. Plan              758\n",
      "Orden                   758\n",
      "Actividad               762\n",
      "Clase de orden          758\n",
      "Status sistema          758\n",
      "Inicio program.         794\n",
      "Responsable           18120\n",
      "Prioridad             13473\n",
      "dtype: int64\n",
      "\n",
      "Nulls per column in df_act_no_programadas:\n",
      "Código centro           824\n",
      "Centro                  824\n",
      "Ubicac. técnica         762\n",
      "Denominación Ubic.      766\n",
      "Equipo                  762\n",
      "Denominación            969\n",
      "No. Plan                933\n",
      "Desc. Plan              762\n",
      "Orden                   762\n",
      "Actividad               768\n",
      "Clase de orden          758\n",
      "Status sistema          758\n",
      "Inicio program.         794\n",
      "Duración                758\n",
      "Prioridad             36127\n",
      "dtype: int64\n"
     ]
    }
   ],
   "source": [
    "print(\"Nulls per column in df_ins_programadas:\")\n",
    "print(df_ins.isnull().sum())\n",
    "\n",
    "print(\"\\nNulls per column in df_ins_no_programadas:\")\n",
    "print(df_ins_no.isnull().sum())\n",
    "\n",
    "print(\"\\nNulls per column in df_act_programadas:\")\n",
    "print(df_act.isnull().sum())\n",
    "\n",
    "print(\"\\nNulls per column in df_act_no_programadas:\")\n",
    "print(df_act_no.isnull().sum())\n",
    "\n",
    "#now we observe what columns have nulls and how much per each column\n"
   ]
  },
  {
   "cell_type": "markdown",
   "metadata": {},
   "source": [
    "- We can see that there are null values ​​present in several columns across all the datasets, which indicate that there are still many empty rows.\n",
    "- The pattern of null data across the different columns indicates a consistency of errors, for example certain columns consistently have null values ​​which indicates problems with the collection."
   ]
  },
  {
   "cell_type": "code",
   "execution_count": 29,
   "metadata": {},
   "outputs": [
    {
     "data": {
      "text/plain": [
       "Index(['Código centro', 'Centro', 'Ubicac. técnica', 'Denominación Ubic.',\n",
       "       'Equipo', 'Denominación', 'No. Plan', 'Desc. Plan', 'Orden',\n",
       "       'Actividad', 'Clase de orden', 'Status sistema', 'Inicio program.',\n",
       "       'Duración', 'Prioridad'],\n",
       "      dtype='object')"
      ]
     },
     "execution_count": 29,
     "metadata": {},
     "output_type": "execute_result"
    }
   ],
   "source": [
    "df_act_no.keys()"
   ]
  },
  {
   "cell_type": "code",
   "execution_count": 33,
   "metadata": {},
   "outputs": [
    {
     "data": {
      "text/plain": [
       "Index(['Código centro', 'Centro', 'Ubicac. técnica', 'Denominación Ubic.',\n",
       "       'Equipo', 'Denominación', 'No. Plan', 'Desc. Plan', 'Orden',\n",
       "       'Actividad', 'Descripción', 'Clase de orden', 'Status sistema',\n",
       "       'Inicio program.', 'Responsable'],\n",
       "      dtype='object')"
      ]
     },
     "execution_count": 33,
     "metadata": {},
     "output_type": "execute_result"
    }
   ],
   "source": [
    "df_ins.keys()"
   ]
  },
  {
   "cell_type": "code",
   "execution_count": 34,
   "metadata": {},
   "outputs": [
    {
     "name": "stdout",
     "output_type": "stream",
     "text": [
      "\n",
      "Prioridad column in df_act_programadas:\n",
      "0          Medio\n",
      "1          Medio\n",
      "2           Bajo\n",
      "3    Muy elevado\n",
      "4           Alto\n",
      "Name: Prioridad, dtype: object\n",
      "\n",
      "Prioridad column in df_act_no_programadas:\n",
      "0    None\n",
      "1    None\n",
      "2    None\n",
      "3    None\n",
      "4    None\n",
      "Name: Prioridad, dtype: object\n"
     ]
    }
   ],
   "source": [
    "print(\"\\nPrioridad column in df_act_programadas:\")\n",
    "print(df_act[\"Prioridad\"].head(5))\n",
    "\n",
    "print(\"\\nPrioridad column in df_act_no_programadas:\")\n",
    "print(df_act_no[\"Prioridad\"].head(5))"
   ]
  },
  {
   "cell_type": "code",
   "execution_count": 35,
   "metadata": {},
   "outputs": [],
   "source": [
    "# Define the minimum proportion of non-null values required (in this case, 50%)\n",
    "threshold = len(df_ins.columns) // 2\n",
    "\n",
    "# Remove rows with more than 50% null values \n",
    "df_ins = df_ins.dropna(thresh=threshold)\n",
    "\n",
    "df_ins_no = df_ins_no.dropna(thresh=threshold)\n",
    "\n",
    "df_act = df_act.dropna(thresh=threshold)\n",
    "\n",
    "df_act_no = df_act_no.dropna(thresh=threshold)\n"
   ]
  },
  {
   "cell_type": "code",
   "execution_count": 36,
   "metadata": {},
   "outputs": [
    {
     "name": "stdout",
     "output_type": "stream",
     "text": [
      "Nulls per column in df_ins_programadas:\n",
      "Código centro             0\n",
      "Centro                    0\n",
      "Ubicac. técnica           0\n",
      "Denominación Ubic.        0\n",
      "Equipo                    0\n",
      "Denominación              0\n",
      "No. Plan                  0\n",
      "Desc. Plan                0\n",
      "Orden                     0\n",
      "Actividad                 0\n",
      "Descripción             469\n",
      "Clase de orden            0\n",
      "Status sistema            0\n",
      "Inicio program.          54\n",
      "Responsable           37868\n",
      "dtype: int64\n",
      "\n",
      "Nulls per column in df_ins_no_programadas:\n",
      "Código centro         1115\n",
      "Centro                1115\n",
      "Ubicac. técnica       1115\n",
      "Denominación Ubic.    1115\n",
      "Equipo                1115\n",
      "Denominación          1115\n",
      "No. Plan                 0\n",
      "Desc. Plan               0\n",
      "Orden                    0\n",
      "Actividad                0\n",
      "Descripción            633\n",
      "Clase de orden           0\n",
      "Status sistema           0\n",
      "Inicio program.        458\n",
      "Duración                 0\n",
      "dtype: int64\n",
      "\n",
      "Nulls per column in df_act_programadas:\n",
      "Código centro            62\n",
      "Centro                   62\n",
      "Ubicac. técnica           0\n",
      "Denominación Ubic.        0\n",
      "Equipo                    1\n",
      "Denominación             97\n",
      "No. Plan                182\n",
      "Desc. Plan                0\n",
      "Orden                     0\n",
      "Actividad                 4\n",
      "Clase de orden            0\n",
      "Status sistema            0\n",
      "Inicio program.          36\n",
      "Responsable           17362\n",
      "Prioridad             12715\n",
      "dtype: int64\n",
      "\n",
      "Nulls per column in df_act_no_programadas:\n",
      "Código centro            62\n",
      "Centro                   62\n",
      "Ubicac. técnica           0\n",
      "Denominación Ubic.        4\n",
      "Equipo                    0\n",
      "Denominación            207\n",
      "No. Plan                171\n",
      "Desc. Plan                0\n",
      "Orden                     0\n",
      "Actividad                 6\n",
      "Clase de orden            0\n",
      "Status sistema            0\n",
      "Inicio program.          36\n",
      "Duración                  0\n",
      "Prioridad             35369\n",
      "dtype: int64\n"
     ]
    }
   ],
   "source": [
    "print(\"Nulls per column in df_ins_programadas:\")\n",
    "print(df_ins.isnull().sum())\n",
    "\n",
    "print(\"\\nNulls per column in df_ins_no_programadas:\")\n",
    "print(df_ins_no.isnull().sum())\n",
    "\n",
    "print(\"\\nNulls per column in df_act_programadas:\")\n",
    "print(df_act.isnull().sum())\n",
    "\n",
    "print(\"\\nNulls per column in df_act_no_programadas:\")\n",
    "print(df_act_no.isnull().sum())"
   ]
  },
  {
   "cell_type": "code",
   "execution_count": 37,
   "metadata": {},
   "outputs": [
    {
     "name": "stdout",
     "output_type": "stream",
     "text": [
      "\n",
      "    ins_programadas shape     136612\n",
      "    ins_no_programadas shape  249354\n",
      "\n",
      "    act_programadas  shape    47670\n",
      "    act_no_programadas shape  88607\n",
      "    \n"
     ]
    }
   ],
   "source": [
    "print(f\"\"\"\n",
    "    ins_programadas shape     {df_ins.shape[0]}\n",
    "    ins_no_programadas shape  {df_ins_no.shape[0]}\n",
    "\n",
    "    act_programadas  shape    {df_act.shape[0]}\n",
    "    act_no_programadas shape  {df_act_no.shape[0]}\n",
    "    \"\"\")"
   ]
  },
  {
   "cell_type": "markdown",
   "metadata": {},
   "source": [
    "the size doesn't change much after clean the rows with 50% of null values"
   ]
  },
  {
   "cell_type": "code",
   "execution_count": null,
   "metadata": {},
   "outputs": [],
   "source": [
    "#Now we look for which center has the most unscheduled activities."
   ]
  },
  {
   "cell_type": "code",
   "execution_count": 43,
   "metadata": {},
   "outputs": [
    {
     "data": {
      "image/png": "[encoded data removed]",
      "text/plain": [
       "<Figure size 800x600 with 1 Axes>"
      ]
     },
     "metadata": {},
     "output_type": "display_data"
    }
   ],
   "source": [
    "import matplotlib.pyplot as plt\n",
    "\n",
    "# calculate the frequency of each center\n",
    "centro_counts = df_act_no['Código centro'].value_counts()\n",
    "\n",
    "# obtain 5 most commun centers\n",
    "top_centros = centro_counts.head(5)\n",
    "\n",
    "\n",
    "plt.figure(figsize=(8, 6))\n",
    "plt.pie(top_centros, labels=top_centros.index, autopct='%1.1f%%', startangle=140)\n",
    "plt.title('Distribution of Most Common Centers act no programs')\n",
    "plt.axis('equal') \n",
    "plt.show()"
   ]
  },
  {
   "cell_type": "markdown",
   "metadata": {},
   "source": [
    "Thats is an interesting <font color=yellow>insight</font> here we can see what are the <font color=red>most comuns centers where they have unexpected troubles</font>"
   ]
  },
  {
   "cell_type": "code",
   "execution_count": null,
   "metadata": {},
   "outputs": [],
   "source": []
  },
  {
   "cell_type": "code",
   "execution_count": 49,
   "metadata": {},
   "outputs": [
    {
     "name": "stderr",
     "output_type": "stream",
     "text": [
      "C:\\Users\\joanm\\AppData\\Local\\Temp\\ipykernel_50676\\3842739256.py:8: SettingWithCopyWarning: \n",
      "A value is trying to be set on a copy of a slice from a DataFrame.\n",
      "Try using .loc[row_indexer,col_indexer] = value instead\n",
      "\n",
      "See the caveats in the documentation: https://pandas.pydata.org/pandas-docs/stable/user_guide/indexing.html#returning-a-view-versus-a-copy\n",
      "  df_top_centros['Duración'] = pd.to_numeric(df_top_centros['Duración'], errors='coerce')\n"
     ]
    },
    {
     "data": {
      "image/png": "[encoded data removed]",
      "text/plain": [
       "<Figure size 1000x600 with 1 Axes>"
      ]
     },
     "metadata": {},
     "output_type": "display_data"
    }
   ],
   "source": [
    "# Obtener los cinco centros más comunes\n",
    "top_centros = df_act_no['Código centro'].value_counts().head(5).index.tolist()\n",
    "\n",
    "# filter by top5 centers\n",
    "df_top_centros = df_act_no[df_act_no['Código centro'].isin(top_centros)]\n",
    "\n",
    "# transform the column to numeric\n",
    "df_top_centros['Duración'] = pd.to_numeric(df_top_centros['Duración'], errors='coerce')\n",
    "\n",
    "#group by 5 most commun centers\n",
    "duration_by_centro = df_top_centros.groupby('Código centro')['Duración'].sum()\n",
    "\n",
    "\n",
    "plt.figure(figsize=(10, 6))\n",
    "duration_by_centro.plot(kind='bar')\n",
    "plt.title('Total Duration by Top 5 Centers with no planing troubles')\n",
    "plt.xlabel('Center')\n",
    "plt.ylabel('Total Duration (hours)')\n",
    "plt.xticks(rotation=45)\n",
    "plt.show()"
   ]
  },
  {
   "cell_type": "code",
   "execution_count": null,
   "metadata": {},
   "outputs": [],
   "source": []
  }
 ],
 "metadata": {
  "kernelspec": {
   "display_name": "time_lost_venv",
   "language": "python",
   "name": "python3"
  },
  "language_info": {
   "codemirror_mode": {
    "name": "ipython",
    "version": 3
   },
   "file_extension": ".py",
   "mimetype": "text/x-python",
   "name": "python",
   "nbconvert_exporter": "python",
   "pygments_lexer": "ipython3",
   "version": "3.12.0"
  }
 },
 "nbformat": 4,
 "nbformat_minor": 2
}
