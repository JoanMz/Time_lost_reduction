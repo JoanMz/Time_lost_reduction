{
 "cells": [
  {
   "cell_type": "markdown",
   "metadata": {},
   "source": [
    "<font color=#09D8B9><h1><b>EDA</b></h1></font>"
   ]
  },
  {
   "cell_type": "markdown",
   "metadata": {},
   "source": [
    "<h5>We are looking to  understand the structure and characteristics of data using tools like(python-notebooks, SQL_DB, PowerBi)<h5>"
   ]
  },
  {
   "cell_type": "markdown",
   "metadata": {},
   "source": [
    "<p>Our data was extremely dirty, so they underwent a pre-cleaning process before being loaded into a dataframe and then into a SQL database.</p>\n",
    "\n",
    "<p>Our data consists of real company data, They came in Excel format with unconventional structures.</p>\n",
    "\n",
    "**for now, we have four main tables**\n",
    "\n",
    "- ins_programadas (inspecciones programadas)\n",
    "- ins_no_programados (inspecciones no programadas)\n",
    "- act_programadas (actividades programadas)\n",
    "- act_no_programadas (actividades no programadas)"
   ]
  },
  {
   "cell_type": "markdown",
   "metadata": {},
   "source": [
    "---"
   ]
  },
  {
   "cell_type": "markdown",
   "metadata": {},
   "source": [
    "<font color=#09D825 ><h4>Preprocess stage</h4></font>"
   ]
  },
  {
   "cell_type": "markdown",
   "metadata": {},
   "source": [
    "<ol>\n",
    "<li>load own libraries</li>\n",
    "<li>load alien python libraries</li>\n",
    "<li>defined modules</li>\n",
    "</ol>"
   ]
  },
  {
   "cell_type": "code",
   "execution_count": 1,
   "metadata": {},
   "outputs": [],
   "source": [
    "import sys\n",
    "sys.path.append(r\"../Aplication\")\n",
    "import Pysqlconnect"
   ]
  },
  {
   "cell_type": "code",
   "execution_count": 2,
   "metadata": {},
   "outputs": [],
   "source": [
    "from decouple import config\n",
    "import matplotlib.pyplot as plt\n",
    "import numpy as np\n",
    "import pandas as pd\n",
    "import os\n",
    "import re"
   ]
  },
  {
   "cell_type": "markdown",
   "metadata": {},
   "source": [
    "**We create the table before using the preload file**\n",
    "- first we need to know our data\n"
   ]
  },
  {
   "cell_type": "code",
   "execution_count": 51,
   "metadata": {},
   "outputs": [],
   "source": [
    "def list_dtypes(series:pd.Series):\n",
    "    return type(series)"
   ]
  },
  {
   "cell_type": "code",
   "execution_count": null,
   "metadata": {},
   "outputs": [],
   "source": [
    "def change_types(dty:object):\n",
    "    \"\"\"I used this function \"\"\""
   ]
  },
  {
   "cell_type": "code",
   "execution_count": 3,
   "metadata": {},
   "outputs": [
    {
     "name": "stdout",
     "output_type": "stream",
     "text": [
      "['SELECT * FROM act_programadas', 'SELECT * FROM act_no_programadas', 'SELECT * FROM ins_no_programadas', 'SELECT * FROM ins_programadas']\n"
     ]
    }
   ],
   "source": [
    "def load_query(): #create a function for iter the diferents tables\n",
    "    lst = []\n",
    "    for i in range(1,5):\n",
    "        get_all_data = f\"SELECT * FROM {config(f\"DB_TABLE{i}\")}\"\n",
    "        lst.append(get_all_data)\n",
    "    return lst\n",
    "\n",
    "datasets = load_query() \n",
    "print(datasets) #show the querys"
   ]
  },
  {
   "cell_type": "code",
   "execution_count": 4,
   "metadata": {},
   "outputs": [],
   "source": [
    "#define our datasets\n",
    "\n",
    "df_ins_no = pd.read_sql(datasets[2],Pysqlconnect.connection())\n",
    "df_ins = pd.read_sql(datasets[3],Pysqlconnect.connection())\n",
    "df_act_no = pd.read_sql(datasets[1],Pysqlconnect.connection())\n",
    "df_act = pd.read_sql(datasets[0],Pysqlconnect.connection())"
   ]
  },
  {
   "cell_type": "code",
   "execution_count": 5,
   "metadata": {},
   "outputs": [
    {
     "name": "stdout",
     "output_type": "stream",
     "text": [
      "\n",
      "ins_programadas shape     137912\n",
      "ins_no_programadas sahpe  250654\n",
      "\n",
      "act_programadas  shape    48428\n",
      "act_no_programadas shape  89369\n",
      "\n"
     ]
    }
   ],
   "source": [
    "print(f\"\"\"\n",
    "ins_programadas shape     {df_ins.shape[0]}\n",
    "ins_no_programadas sahpe  {df_ins_no.shape[0]}\n",
    "\n",
    "act_programadas  shape    {df_act.shape[0]}\n",
    "act_no_programadas shape  {df_act_no.shape[0]}\n",
    "\"\"\")\n",
    "# print the number of entries for each dataset "
   ]
  },
  {
   "cell_type": "markdown",
   "metadata": {},
   "source": [
    "We can see that we have around 400k rows betwen all tables"
   ]
  },
  {
   "cell_type": "code",
   "execution_count": 6,
   "metadata": {},
   "outputs": [
    {
     "name": "stdout",
     "output_type": "stream",
     "text": [
      "\n",
      "    ins_programadas shape     137912\n",
      "    ins_no_programadas shape  250654\n",
      "\n",
      "    act_programadas  shape    48428\n",
      "    act_no_programadas shape  89369\n",
      "    \n"
     ]
    }
   ],
   "source": [
    "print(f\"\"\"\n",
    "    ins_programadas shape     {df_ins.shape[0]}\n",
    "    ins_no_programadas shape  {df_ins_no.shape[0]}\n",
    "\n",
    "    act_programadas  shape    {df_act.shape[0]}\n",
    "    act_no_programadas shape  {df_act_no.shape[0]}\n",
    "    \"\"\")"
   ]
  },
  {
   "cell_type": "code",
   "execution_count": 7,
   "metadata": {},
   "outputs": [
    {
     "name": "stdout",
     "output_type": "stream",
     "text": [
      "\n",
      "ins_programadas nulos     57891\n",
      "ins_no_programadas nulos  27281\n",
      "\n",
      "act_programadas nulos     41891\n",
      "act_no_programadas nulos  47327\n",
      "\n"
     ]
    }
   ],
   "source": [
    "print(f\"\"\"\n",
    "ins_programadas nulos     {df_ins.isnull().sum().sum()}\n",
    "ins_no_programadas nulos  {df_ins_no.isnull().sum().sum()}\n",
    "\n",
    "act_programadas nulos     {df_act.isnull().sum().sum()}\n",
    "act_no_programadas nulos  {df_act_no.isnull().sum().sum()}\n",
    "\"\"\")\n",
    "#looking for null values"
   ]
  },
  {
   "cell_type": "code",
   "execution_count": 8,
   "metadata": {},
   "outputs": [
    {
     "name": "stdout",
     "output_type": "stream",
     "text": [
      "Nulls per column in df_ins_programadas:\n",
      "Código centro          1300\n",
      "Centro                 1300\n",
      "Ubicac. técnica        1300\n",
      "Denominación Ubic.     1300\n",
      "Equipo                 1300\n",
      "Denominación           1300\n",
      "No. Plan               1300\n",
      "Desc. Plan             1300\n",
      "Orden                  1300\n",
      "Actividad              1300\n",
      "Descripción            1769\n",
      "Clase de orden         1300\n",
      "Status sistema         1300\n",
      "Inicio program.        1354\n",
      "Responsable           39168\n",
      "dtype: int64\n",
      "\n",
      "Nulls per column in df_ins_no_programadas:\n",
      "Código centro         2415\n",
      "Centro                2415\n",
      "Ubicac. técnica       2415\n",
      "Denominación Ubic.    2415\n",
      "Equipo                2415\n",
      "Denominación          2415\n",
      "No. Plan              1300\n",
      "Desc. Plan            1300\n",
      "Orden                 1300\n",
      "Actividad             1300\n",
      "Descripción           1933\n",
      "Clase de orden        1300\n",
      "Status sistema        1300\n",
      "Inicio program.       1758\n",
      "Duración              1300\n",
      "dtype: int64\n",
      "\n",
      "Nulls per column in df_act_programadas:\n",
      "Código centro           820\n",
      "Centro                  820\n",
      "Ubicac. técnica         758\n",
      "Denominación Ubic.      758\n",
      "Equipo                  759\n",
      "Denominación            855\n",
      "No. Plan                940\n",
      "Desc. Plan              758\n",
      "Orden                   758\n",
      "Actividad               762\n",
      "Clase de orden          758\n",
      "Status sistema          758\n",
      "Inicio program.         794\n",
      "Responsable           18120\n",
      "Prioridad             13473\n",
      "dtype: int64\n",
      "\n",
      "Nulls per column in df_act_no_programadas:\n",
      "Código centro           824\n",
      "Centro                  824\n",
      "Ubicac. técnica         762\n",
      "Denominación Ubic.      766\n",
      "Equipo                  762\n",
      "Denominación            969\n",
      "No. Plan                933\n",
      "Desc. Plan              762\n",
      "Orden                   762\n",
      "Actividad               768\n",
      "Clase de orden          758\n",
      "Status sistema          758\n",
      "Inicio program.         794\n",
      "Duración                758\n",
      "Prioridad             36127\n",
      "dtype: int64\n"
     ]
    }
   ],
   "source": [
    "print(\"Nulls per column in df_ins_programadas:\")\n",
    "print(df_ins.isnull().sum())\n",
    "\n",
    "print(\"\\nNulls per column in df_ins_no_programadas:\")\n",
    "print(df_ins_no.isnull().sum())\n",
    "\n",
    "print(\"\\nNulls per column in df_act_programadas:\")\n",
    "print(df_act.isnull().sum())\n",
    "\n",
    "print(\"\\nNulls per column in df_act_no_programadas:\")\n",
    "print(df_act_no.isnull().sum())\n",
    "\n",
    "#now we observe what columns have nulls and how much per each column\n"
   ]
  },
  {
   "cell_type": "markdown",
   "metadata": {},
   "source": [
    "- We can see that there are null values ​​present in several columns across all the datasets, which indicate that there are still many empty rows.\n",
    "- The pattern of null data across the different columns indicates a consistency of errors, for example certain columns consistently have null values ​​which indicates problems with the collection."
   ]
  },
  {
   "cell_type": "code",
   "execution_count": 9,
   "metadata": {},
   "outputs": [
    {
     "data": {
      "text/plain": [
       "Index(['Código centro', 'Centro', 'Ubicac. técnica', 'Denominación Ubic.',\n",
       "       'Equipo', 'Denominación', 'No. Plan', 'Desc. Plan', 'Orden',\n",
       "       'Actividad', 'Clase de orden', 'Status sistema', 'Inicio program.',\n",
       "       'Duración', 'Prioridad'],\n",
       "      dtype='object')"
      ]
     },
     "execution_count": 9,
     "metadata": {},
     "output_type": "execute_result"
    }
   ],
   "source": [
    "df_act_no.keys()"
   ]
  },
  {
   "cell_type": "code",
   "execution_count": 10,
   "metadata": {},
   "outputs": [
    {
     "data": {
      "text/plain": [
       "Index(['Código centro', 'Centro', 'Ubicac. técnica', 'Denominación Ubic.',\n",
       "       'Equipo', 'Denominación', 'No. Plan', 'Desc. Plan', 'Orden',\n",
       "       'Actividad', 'Descripción', 'Clase de orden', 'Status sistema',\n",
       "       'Inicio program.', 'Responsable'],\n",
       "      dtype='object')"
      ]
     },
     "execution_count": 10,
     "metadata": {},
     "output_type": "execute_result"
    }
   ],
   "source": [
    "df_ins.keys()"
   ]
  },
  {
   "cell_type": "code",
   "execution_count": 11,
   "metadata": {},
   "outputs": [
    {
     "name": "stdout",
     "output_type": "stream",
     "text": [
      "\n",
      "Prioridad column in df_act_programadas:\n",
      "0          Medio\n",
      "1          Medio\n",
      "2           Bajo\n",
      "3    Muy elevado\n",
      "4           Alto\n",
      "Name: Prioridad, dtype: object\n",
      "\n",
      "Prioridad column in df_act_no_programadas:\n",
      "0    None\n",
      "1    None\n",
      "2    None\n",
      "3    None\n",
      "4    None\n",
      "Name: Prioridad, dtype: object\n"
     ]
    }
   ],
   "source": [
    "print(\"\\nPrioridad column in df_act_programadas:\")\n",
    "print(df_act[\"Prioridad\"].head(5))\n",
    "\n",
    "print(\"\\nPrioridad column in df_act_no_programadas:\")\n",
    "print(df_act_no[\"Prioridad\"].head(5))"
   ]
  },
  {
   "cell_type": "code",
   "execution_count": 12,
   "metadata": {},
   "outputs": [],
   "source": [
    "# Define the minimum proportion of non-null values required (in this case, 50%)\n",
    "threshold = len(df_ins.columns) // 2\n",
    "\n",
    "# Remove rows with more than 50% null values \n",
    "df_ins = df_ins.dropna(thresh=threshold)\n",
    "\n",
    "df_ins_no = df_ins_no.dropna(thresh=threshold)\n",
    "\n",
    "df_act = df_act.dropna(thresh=threshold)\n",
    "\n",
    "df_act_no = df_act_no.dropna(thresh=threshold)\n"
   ]
  },
  {
   "cell_type": "code",
   "execution_count": 13,
   "metadata": {},
   "outputs": [
    {
     "name": "stdout",
     "output_type": "stream",
     "text": [
      "Nulls per column in df_ins_programadas:\n",
      "Código centro             0\n",
      "Centro                    0\n",
      "Ubicac. técnica           0\n",
      "Denominación Ubic.        0\n",
      "Equipo                    0\n",
      "Denominación              0\n",
      "No. Plan                  0\n",
      "Desc. Plan                0\n",
      "Orden                     0\n",
      "Actividad                 0\n",
      "Descripción             469\n",
      "Clase de orden            0\n",
      "Status sistema            0\n",
      "Inicio program.          54\n",
      "Responsable           37868\n",
      "dtype: int64\n",
      "\n",
      "Nulls per column in df_ins_no_programadas:\n",
      "Código centro         1115\n",
      "Centro                1115\n",
      "Ubicac. técnica       1115\n",
      "Denominación Ubic.    1115\n",
      "Equipo                1115\n",
      "Denominación          1115\n",
      "No. Plan                 0\n",
      "Desc. Plan               0\n",
      "Orden                    0\n",
      "Actividad                0\n",
      "Descripción            633\n",
      "Clase de orden           0\n",
      "Status sistema           0\n",
      "Inicio program.        458\n",
      "Duración                 0\n",
      "dtype: int64\n",
      "\n",
      "Nulls per column in df_act_programadas:\n",
      "Código centro            62\n",
      "Centro                   62\n",
      "Ubicac. técnica           0\n",
      "Denominación Ubic.        0\n",
      "Equipo                    1\n",
      "Denominación             97\n",
      "No. Plan                182\n",
      "Desc. Plan                0\n",
      "Orden                     0\n",
      "Actividad                 4\n",
      "Clase de orden            0\n",
      "Status sistema            0\n",
      "Inicio program.          36\n",
      "Responsable           17362\n",
      "Prioridad             12715\n",
      "dtype: int64\n",
      "\n",
      "Nulls per column in df_act_no_programadas:\n",
      "Código centro            62\n",
      "Centro                   62\n",
      "Ubicac. técnica           0\n",
      "Denominación Ubic.        4\n",
      "Equipo                    0\n",
      "Denominación            207\n",
      "No. Plan                171\n",
      "Desc. Plan                0\n",
      "Orden                     0\n",
      "Actividad                 6\n",
      "Clase de orden            0\n",
      "Status sistema            0\n",
      "Inicio program.          36\n",
      "Duración                  0\n",
      "Prioridad             35369\n",
      "dtype: int64\n"
     ]
    }
   ],
   "source": [
    "print(\"Nulls per column in df_ins_programadas:\")\n",
    "print(df_ins.isnull().sum())\n",
    "\n",
    "print(\"\\nNulls per column in df_ins_no_programadas:\")\n",
    "print(df_ins_no.isnull().sum())\n",
    "\n",
    "print(\"\\nNulls per column in df_act_programadas:\")\n",
    "print(df_act.isnull().sum())\n",
    "\n",
    "print(\"\\nNulls per column in df_act_no_programadas:\")\n",
    "print(df_act_no.isnull().sum())"
   ]
  },
  {
   "cell_type": "code",
   "execution_count": 14,
   "metadata": {},
   "outputs": [
    {
     "name": "stdout",
     "output_type": "stream",
     "text": [
      "\n",
      "    ins_programadas shape     136612\n",
      "    ins_no_programadas shape  249354\n",
      "\n",
      "    act_programadas  shape    47670\n",
      "    act_no_programadas shape  88607\n",
      "    \n"
     ]
    }
   ],
   "source": [
    "print(f\"\"\"\n",
    "    ins_programadas shape     {df_ins.shape[0]}\n",
    "    ins_no_programadas shape  {df_ins_no.shape[0]}\n",
    "\n",
    "    act_programadas  shape    {df_act.shape[0]}\n",
    "    act_no_programadas shape  {df_act_no.shape[0]}\n",
    "    \"\"\")"
   ]
  },
  {
   "cell_type": "markdown",
   "metadata": {},
   "source": [
    "the size doesn't change much after clean the rows with 50% of null values"
   ]
  },
  {
   "cell_type": "code",
   "execution_count": null,
   "metadata": {},
   "outputs": [],
   "source": [
    "act_programads.describe()\n",
    "#see the distribution "
   ]
  },
  {
   "cell_type": "code",
   "execution_count": 15,
   "metadata": {},
   "outputs": [],
   "source": [
    "#Now we look for which center has the most unscheduled activities."
   ]
  },
  {
   "cell_type": "code",
   "execution_count": 56,
   "metadata": {},
   "outputs": [
    {
     "data": {
      "image/png": "[encoded data removed]",
      "text/plain": [
       "<Figure size 800x600 with 1 Axes>"
      ]
     },
     "metadata": {},
     "output_type": "display_data"
    }
   ],
   "source": [
    "import matplotlib.pyplot as plt\n",
    "\n",
    "# calculate the frequency of each center\n",
    "centro_counts = df_act_no['Código centro'].value_counts()\n",
    "\n",
    "# obtain 5 most commun centers\n",
    "top_centros = centro_counts.head(5)\n",
    "\n",
    "\n",
    "plt.figure(figsize=(8, 6))\n",
    "plt.pie(top_centros, labels=top_centros.index, autopct='%1.1f%%', startangle=90, explode=(0.06,0,0,0,0), shadow=True)\n",
    "plt.title('Distribution of Most Common Centers act no programs')\n",
    "plt.axis('equal') \n",
    "plt.show()"
   ]
  },
  {
   "cell_type": "markdown",
   "metadata": {},
   "source": [
    "Thats is an interesting <font color=yellow>insight</font> here we can see what are the most commun centers with have no programing activities"
   ]
  },
  {
   "cell_type": "code",
   "execution_count": null,
   "metadata": {},
   "outputs": [],
   "source": []
  },
  {
   "cell_type": "code",
   "execution_count": 35,
   "metadata": {},
   "outputs": [
    {
     "name": "stderr",
     "output_type": "stream",
     "text": [
      "C:\\Users\\joanm\\AppData\\Local\\Temp\\ipykernel_16596\\3952444792.py:8: SettingWithCopyWarning: \n",
      "A value is trying to be set on a copy of a slice from a DataFrame.\n",
      "Try using .loc[row_indexer,col_indexer] = value instead\n",
      "\n",
      "See the caveats in the documentation: https://pandas.pydata.org/pandas-docs/stable/user_guide/indexing.html#returning-a-view-versus-a-copy\n",
      "  df_top_centros['Duración'] = pd.to_numeric(df_top_centros['Duración'], errors='coerce')\n"
     ]
    },
    {
     "data": {
      "image/png": "[encoded data removed]",
      "text/plain": [
       "<Figure size 1000x600 with 1 Axes>"
      ]
     },
     "metadata": {},
     "output_type": "display_data"
    }
   ],
   "source": [
    "# get the 5 commun centers\n",
    "top_centros = df_act_no['Código centro'].value_counts().head(5).index.tolist()\n",
    "\n",
    "# filter by top5 centers\n",
    "df_top_centros = df_act_no[df_act_no['Código centro'].isin(top_centros)]\n",
    "\n",
    "# transform the column to numeric\n",
    "df_top_centros['Duración'] = pd.to_numeric(df_top_centros['Duración'], errors='coerce')\n",
    "\n",
    "#group by 5 most commun centers\n",
    "duration_by_centro = df_top_centros.groupby('Código centro')['Duración'].sum()\n",
    "\n",
    "\n",
    "plt.figure(figsize=(10, 6))\n",
    "duration_by_centro.plot(kind='barh', color=\"red\")\n",
    "plt.grid(True, axis=\"x\", linestyle=\"--\", color=\"skyblue\")\n",
    "plt.title('Total Previst Duration by Top 5 Centers no programing act')\n",
    "plt.xlabel('Center')\n",
    "plt.ylabel('Total Duration (hours)')\n",
    "plt.xticks(rotation = 45)\n",
    "plt.show()"
   ]
  },
  {
   "cell_type": "code",
   "execution_count": 58,
   "metadata": {},
   "outputs": [
    {
     "data": {
      "text/plain": [
       "Index(['Código centro', 'Centro', 'Ubicac. técnica', 'Denominación Ubic.',\n",
       "       'Equipo', 'Denominación', 'No. Plan', 'Desc. Plan', 'Orden',\n",
       "       'Actividad', 'Clase de orden', 'Status sistema', 'Inicio program.',\n",
       "       'Responsable', 'Prioridad'],\n",
       "      dtype='object')"
      ]
     },
     "execution_count": 58,
     "metadata": {},
     "output_type": "execute_result"
    }
   ],
   "source": [
    "df_act.keys()"
   ]
  },
  {
   "cell_type": "code",
   "execution_count": 57,
   "metadata": {},
   "outputs": [
    {
     "ename": "KeyError",
     "evalue": "'Duración'",
     "output_type": "error",
     "traceback": [
      "\u001b[1;31m---------------------------------------------------------------------------\u001b[0m",
      "\u001b[1;31mKeyError\u001b[0m                                  Traceback (most recent call last)",
      "File \u001b[1;32mc:\\Users\\joanm\\OneDrive\\Escritorio\\University\\5\\ETL\\Proyect\\Time_lost_reduction\\time_lost_venv\\Lib\\site-packages\\pandas\\core\\indexes\\base.py:3805\u001b[0m, in \u001b[0;36mIndex.get_loc\u001b[1;34m(self, key)\u001b[0m\n\u001b[0;32m   3804\u001b[0m \u001b[38;5;28;01mtry\u001b[39;00m:\n\u001b[1;32m-> 3805\u001b[0m     \u001b[38;5;28;01mreturn\u001b[39;00m \u001b[38;5;28;43mself\u001b[39;49m\u001b[38;5;241;43m.\u001b[39;49m\u001b[43m_engine\u001b[49m\u001b[38;5;241;43m.\u001b[39;49m\u001b[43mget_loc\u001b[49m\u001b[43m(\u001b[49m\u001b[43mcasted_key\u001b[49m\u001b[43m)\u001b[49m\n\u001b[0;32m   3806\u001b[0m \u001b[38;5;28;01mexcept\u001b[39;00m \u001b[38;5;167;01mKeyError\u001b[39;00m \u001b[38;5;28;01mas\u001b[39;00m err:\n",
      "File \u001b[1;32mindex.pyx:167\u001b[0m, in \u001b[0;36mpandas._libs.index.IndexEngine.get_loc\u001b[1;34m()\u001b[0m\n",
      "File \u001b[1;32mindex.pyx:196\u001b[0m, in \u001b[0;36mpandas._libs.index.IndexEngine.get_loc\u001b[1;34m()\u001b[0m\n",
      "File \u001b[1;32mpandas\\\\_libs\\\\hashtable_class_helper.pxi:7081\u001b[0m, in \u001b[0;36mpandas._libs.hashtable.PyObjectHashTable.get_item\u001b[1;34m()\u001b[0m\n",
      "File \u001b[1;32mpandas\\\\_libs\\\\hashtable_class_helper.pxi:7089\u001b[0m, in \u001b[0;36mpandas._libs.hashtable.PyObjectHashTable.get_item\u001b[1;34m()\u001b[0m\n",
      "\u001b[1;31mKeyError\u001b[0m: 'Duración'",
      "\nThe above exception was the direct cause of the following exception:\n",
      "\u001b[1;31mKeyError\u001b[0m                                  Traceback (most recent call last)",
      "Cell \u001b[1;32mIn[57], line 8\u001b[0m\n\u001b[0;32m      5\u001b[0m df_top_centros \u001b[38;5;241m=\u001b[39m df_act[df_act[\u001b[38;5;124m'\u001b[39m\u001b[38;5;124mCódigo centro\u001b[39m\u001b[38;5;124m'\u001b[39m]\u001b[38;5;241m.\u001b[39misin(top_centros)]\n\u001b[0;32m      7\u001b[0m \u001b[38;5;66;03m# transform the column to numeric\u001b[39;00m\n\u001b[1;32m----> 8\u001b[0m df_top_centros[\u001b[38;5;124m'\u001b[39m\u001b[38;5;124mDuración\u001b[39m\u001b[38;5;124m'\u001b[39m] \u001b[38;5;241m=\u001b[39m pd\u001b[38;5;241m.\u001b[39mto_numeric(\u001b[43mdf_top_centros\u001b[49m\u001b[43m[\u001b[49m\u001b[38;5;124;43m'\u001b[39;49m\u001b[38;5;124;43mDuración\u001b[39;49m\u001b[38;5;124;43m'\u001b[39;49m\u001b[43m]\u001b[49m, errors\u001b[38;5;241m=\u001b[39m\u001b[38;5;124m'\u001b[39m\u001b[38;5;124mcoerce\u001b[39m\u001b[38;5;124m'\u001b[39m)\n\u001b[0;32m     10\u001b[0m \u001b[38;5;66;03m#group by 5 most commun centers\u001b[39;00m\n\u001b[0;32m     11\u001b[0m duration_by_centro \u001b[38;5;241m=\u001b[39m df_top_centros\u001b[38;5;241m.\u001b[39mgroupby(\u001b[38;5;124m'\u001b[39m\u001b[38;5;124mCódigo centro\u001b[39m\u001b[38;5;124m'\u001b[39m)[\u001b[38;5;124m'\u001b[39m\u001b[38;5;124mDuración\u001b[39m\u001b[38;5;124m'\u001b[39m]\u001b[38;5;241m.\u001b[39msum()\n",
      "File \u001b[1;32mc:\\Users\\joanm\\OneDrive\\Escritorio\\University\\5\\ETL\\Proyect\\Time_lost_reduction\\time_lost_venv\\Lib\\site-packages\\pandas\\core\\frame.py:4090\u001b[0m, in \u001b[0;36mDataFrame.__getitem__\u001b[1;34m(self, key)\u001b[0m\n\u001b[0;32m   4088\u001b[0m \u001b[38;5;28;01mif\u001b[39;00m \u001b[38;5;28mself\u001b[39m\u001b[38;5;241m.\u001b[39mcolumns\u001b[38;5;241m.\u001b[39mnlevels \u001b[38;5;241m>\u001b[39m \u001b[38;5;241m1\u001b[39m:\n\u001b[0;32m   4089\u001b[0m     \u001b[38;5;28;01mreturn\u001b[39;00m \u001b[38;5;28mself\u001b[39m\u001b[38;5;241m.\u001b[39m_getitem_multilevel(key)\n\u001b[1;32m-> 4090\u001b[0m indexer \u001b[38;5;241m=\u001b[39m \u001b[38;5;28;43mself\u001b[39;49m\u001b[38;5;241;43m.\u001b[39;49m\u001b[43mcolumns\u001b[49m\u001b[38;5;241;43m.\u001b[39;49m\u001b[43mget_loc\u001b[49m\u001b[43m(\u001b[49m\u001b[43mkey\u001b[49m\u001b[43m)\u001b[49m\n\u001b[0;32m   4091\u001b[0m \u001b[38;5;28;01mif\u001b[39;00m is_integer(indexer):\n\u001b[0;32m   4092\u001b[0m     indexer \u001b[38;5;241m=\u001b[39m [indexer]\n",
      "File \u001b[1;32mc:\\Users\\joanm\\OneDrive\\Escritorio\\University\\5\\ETL\\Proyect\\Time_lost_reduction\\time_lost_venv\\Lib\\site-packages\\pandas\\core\\indexes\\base.py:3812\u001b[0m, in \u001b[0;36mIndex.get_loc\u001b[1;34m(self, key)\u001b[0m\n\u001b[0;32m   3807\u001b[0m     \u001b[38;5;28;01mif\u001b[39;00m \u001b[38;5;28misinstance\u001b[39m(casted_key, \u001b[38;5;28mslice\u001b[39m) \u001b[38;5;129;01mor\u001b[39;00m (\n\u001b[0;32m   3808\u001b[0m         \u001b[38;5;28misinstance\u001b[39m(casted_key, abc\u001b[38;5;241m.\u001b[39mIterable)\n\u001b[0;32m   3809\u001b[0m         \u001b[38;5;129;01mand\u001b[39;00m \u001b[38;5;28many\u001b[39m(\u001b[38;5;28misinstance\u001b[39m(x, \u001b[38;5;28mslice\u001b[39m) \u001b[38;5;28;01mfor\u001b[39;00m x \u001b[38;5;129;01min\u001b[39;00m casted_key)\n\u001b[0;32m   3810\u001b[0m     ):\n\u001b[0;32m   3811\u001b[0m         \u001b[38;5;28;01mraise\u001b[39;00m InvalidIndexError(key)\n\u001b[1;32m-> 3812\u001b[0m     \u001b[38;5;28;01mraise\u001b[39;00m \u001b[38;5;167;01mKeyError\u001b[39;00m(key) \u001b[38;5;28;01mfrom\u001b[39;00m \u001b[38;5;21;01merr\u001b[39;00m\n\u001b[0;32m   3813\u001b[0m \u001b[38;5;28;01mexcept\u001b[39;00m \u001b[38;5;167;01mTypeError\u001b[39;00m:\n\u001b[0;32m   3814\u001b[0m     \u001b[38;5;66;03m# If we have a listlike key, _check_indexing_error will raise\u001b[39;00m\n\u001b[0;32m   3815\u001b[0m     \u001b[38;5;66;03m#  InvalidIndexError. Otherwise we fall through and re-raise\u001b[39;00m\n\u001b[0;32m   3816\u001b[0m     \u001b[38;5;66;03m#  the TypeError.\u001b[39;00m\n\u001b[0;32m   3817\u001b[0m     \u001b[38;5;28mself\u001b[39m\u001b[38;5;241m.\u001b[39m_check_indexing_error(key)\n",
      "\u001b[1;31mKeyError\u001b[0m: 'Duración'"
     ]
    }
   ],
   "source": [
    "# get the 5 commun centers\n",
    "top_centros = df_act['Código centro'].value_counts().head(5).index.tolist()\n",
    "\n",
    "# filter by top5 centers\n",
    "df_top_centros = df_act[df_act['Código centro'].isin(top_centros)]\n",
    "\n",
    "# transform the column to numeric\n",
    "df_top_centros['Duración'] = pd.to_numeric(df_top_centros['Duración'], errors='coerce')\n",
    "\n",
    "#group by 5 most commun centers\n",
    "duration_by_centro = df_top_centros.groupby('Código centro')['Duración'].sum()\n",
    "\n",
    "\n",
    "plt.figure(figsize=(10, 6))\n",
    "duration_by_centro.plot(kind='barh', color=\"red\")\n",
    "plt.grid(True, axis=\"x\", linestyle=\"--\", color=\"skyblue\")\n",
    "plt.title('Total Previst Duration by Top 5 Centers no programing act')\n",
    "plt.xlabel('Center')\n",
    "plt.ylabel('Total Duration (hours)')\n",
    "plt.xticks(rotation = 45)\n",
    "plt.show()"
   ]
  },
  {
   "cell_type": "code",
   "execution_count": 52,
   "metadata": {},
   "outputs": [
    {
     "name": "stdout",
     "output_type": "stream",
     "text": [
      "{<class 'str'>}\n"
     ]
    }
   ],
   "source": [
    "duracion_types = set(df_act_no[\"Duración\"].apply(list_dtypes))\n",
    "print(duracion_types)"
   ]
  },
  {
   "cell_type": "code",
   "execution_count": null,
   "metadata": {},
   "outputs": [],
   "source": []
  }
 ],
 "metadata": {
  "kernelspec": {
   "display_name": "time_lost_venv",
   "language": "python",
   "name": "python3"
  },
  "language_info": {
   "codemirror_mode": {
    "name": "ipython",
    "version": 3
   },
   "file_extension": ".py",
   "mimetype": "text/x-python",
   "name": "python",
   "nbconvert_exporter": "python",
   "pygments_lexer": "ipython3",
   "version": "3.12.0"
  }
 },
 "nbformat": 4,
 "nbformat_minor": 2
}
